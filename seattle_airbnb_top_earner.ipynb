{
 "cells": [
  {
   "cell_type": "code",
   "execution_count": 1254,
   "metadata": {
    "colab": {},
    "colab_type": "code",
    "id": "Bc3J0ttmpbJa"
   },
   "outputs": [],
   "source": [
    "# CMPS140 Project - How to Become Top Earner in Airbnb?\n",
    "# Tangni Wang, Tung Hoi Man, Yunxiang Fu\n",
    "# {twang63, tuman, yfu7}@ucsc.edu"
   ]
  },
  {
   "cell_type": "code",
   "execution_count": 1255,
   "metadata": {},
   "outputs": [],
   "source": [
    "# Tried:\n",
    "# dropna for new_score_reviews\n",
    "\n",
    "# To do:\n",
    "# Generate graph\n"
   ]
  },
  {
   "cell_type": "code",
   "execution_count": 1256,
   "metadata": {},
   "outputs": [],
   "source": [
    "import warnings\n",
    "warnings.simplefilter(\"ignore\")\n",
    "\n",
    "import sklearn # sci-kit learn\n",
    "import numpy as np\n",
    "import pandas as pd\n",
    "import seaborn as sns\n",
    "\n",
    "from sklearn import linear_model\n",
    "from sklearn.metrics import mean_squared_error, r2_score, mean_absolute_error\n",
    "from sklearn.model_selection import cross_validate, cross_val_predict, cross_val_score\n",
    "from sklearn.model_selection import train_test_split\n",
    "from matplotlib import pyplot as plt\n",
    "%matplotlib inline"
   ]
  },
  {
   "cell_type": "code",
   "execution_count": 1257,
   "metadata": {},
   "outputs": [],
   "source": [
    "# Helper functions\n",
    "def correction(x):\n",
    "    '''\n",
    "    Columns value corrections\n",
    "    '''\n",
    "    if type(x)==str:\n",
    "        x=x.replace('$','')\n",
    "        x=x.replace(',','')\n",
    "        x=float(x)    \n",
    "    return (x)\n",
    "\n",
    "def correction2(x):\n",
    "    '''\n",
    "    Columns value corrections\n",
    "    '''\n",
    "    if type(x)==str:\n",
    "        x=x.replace('%','')\n",
    "        x=float(x)/100.0\n",
    "    return (x)\n",
    "\n",
    "def to_int(x):\n",
    "    '''\n",
    "    Columns value corrections\n",
    "    '''\n",
    "    if x=='f':\n",
    "        x=x.replace('f','0')\n",
    "    elif x=='t':\n",
    "        x=x.replace('t','1')\n",
    "    else:\n",
    "        x= '0'\n",
    "    return int(x)\n",
    "\n",
    "# def changeTime(x):\n",
    "#     '''\n",
    "#     change host_response_time columns from string into numerical.\n",
    "#     '''\n",
    "#     if x == 'within an hour':\n",
    "#         x=x.replace('within an hour', '1')\n",
    "#     elif x == 'within a few hours':\n",
    "#         x=x.replace('within a few hours', '4')\n",
    "#     elif x == 'within a day':\n",
    "#         x=x.replace('within a day', '24')\n",
    "#     elif x == 'a few days or more':\n",
    "#         x=x.replace('a few days or more', '48')\n",
    "#     else:\n",
    "#         x='96'\n",
    "        \n",
    "#     return int(x)\n",
    "\n",
    "def changeTime(x):\n",
    "    '''\n",
    "    change host_response_time columns from string into numerical.\n",
    "    '''\n",
    "    if x == 'within an hour':\n",
    "        x='1'\n",
    "    elif x == 'within a few hours':\n",
    "        x='4'\n",
    "    elif x == 'within a day':\n",
    "        x='24'\n",
    "    elif x == 'a few days or more':\n",
    "        x='48'\n",
    "    else:\n",
    "        x='96'\n",
    "        \n",
    "    return x\n",
    "\n",
    "def convertPolicy(x):\n",
    "    '''\n",
    "    Convert cancellation_policy columns from string into numerical.\n",
    "    '''\n",
    "    if x == 'strict':\n",
    "        x=x.replace('strict', '1')\n",
    "    elif x == 'moderate':\n",
    "        x=x.replace('moderate', '3')\n",
    "    elif x == 'flexible':\n",
    "        x=x.replace('flexible', '5')\n",
    "    else:\n",
    "        x='3'\n",
    "        \n",
    "    return int(x)"
   ]
  },
  {
   "cell_type": "code",
   "execution_count": 1258,
   "metadata": {},
   "outputs": [],
   "source": [
    "# Parsing csv file\n",
    "seattle_file_path = 'seattle_data/listings.csv'\n",
    "seattle_data = pd.read_csv(seattle_file_path)\n",
    "# seattle_data.columns"
   ]
  },
  {
   "cell_type": "code",
   "execution_count": 1259,
   "metadata": {},
   "outputs": [],
   "source": [
    "# Make a new attribute for prediction\n",
    "seattle_data['new_score_reviews'] = seattle_data['reviews_per_month'] * seattle_data['review_scores_rating'] / 10\n",
    "# seattle_data.describe()\n",
    "# seattle_data"
   ]
  },
  {
   "cell_type": "code",
   "execution_count": 1260,
   "metadata": {},
   "outputs": [
    {
     "name": "stdout",
     "output_type": "stream",
     "text": [
      "The boundaries of top performer listings: 44.109\n",
      "The boundaries of low performer listings: 6.480000000000001\n"
     ]
    }
   ],
   "source": [
    "# Define top performers and low performers\n",
    "top90flag = seattle_data['new_score_reviews'].quantile(0.9)\n",
    "upto25flag = seattle_data['new_score_reviews'].quantile(0.25)\n",
    "\n",
    "seattle_data['top90'] = seattle_data.new_score_reviews >= top90flag\n",
    "seattle_data['upto25'] = seattle_data.new_score_reviews <= upto25flag\n",
    "\n",
    "print('The boundaries of top performer listings:', top90flag)\n",
    "print('The boundaries of low performer listings:', upto25flag)"
   ]
  },
  {
   "cell_type": "code",
   "execution_count": 1261,
   "metadata": {},
   "outputs": [],
   "source": [
    "# Data Processing\n",
    "\n",
    "# Drop useless columns\n",
    "useless_colmuns = ['id', 'listing_url', 'scrape_id', 'last_scraped', 'name', 'summary', 'space', 'description',\n",
    "    'experiences_offered', 'neighborhood_overview', 'notes', 'transit', 'thumbnail_url', 'medium_url', 'picture_url',\n",
    "    'xl_picture_url', 'host_id', 'host_url', 'host_name', 'host_since', 'host_location', 'host_about',\n",
    "    'host_response_rate', 'host_acceptance_rate', 'host_thumbnail_url', 'host_picture_url', 'host_neighbourhood',\n",
    "    'host_listings_count', 'host_total_listings_count', 'host_verifications', 'host_has_profile_pic', 'street', \n",
    "    'neighbourhood', 'neighbourhood_cleansed', 'neighbourhood_group_cleansed', 'city', 'state', 'market',\n",
    "    'smart_location', 'country_code', 'country', 'latitude', 'longitude', 'is_location_exact', 'property_type', \n",
    "    'room_type', 'bed_type', 'amenities', 'square_feet', 'guests_included', 'maximum_nights', 'calendar_updated', \n",
    "    'has_availability', 'availability_30', 'availability_60', 'availability_90', 'availability_365', \n",
    "    'calendar_last_scraped', 'number_of_reviews', 'first_review', 'last_review', 'review_scores_accuracy', \n",
    "    'review_scores_cleanliness', 'review_scores_checkin', 'review_scores_communication', 'review_scores_location', \n",
    "    'review_scores_value', 'requires_license', 'license', 'jurisdiction_names', 'require_guest_profile_picture', \n",
    "    'require_guest_phone_verification', 'calculated_host_listings_count', 'review_scores_rating', 'reviews_per_month'\n",
    "]\n",
    "seattle_data.drop(useless_colmuns, axis=1)\n",
    "\n",
    "# Remove $: price, weekly_price, security_deposit, extra_people, cleaning_fee\n",
    "seattle_data['price']=seattle_data['price'].map(lambda x: correction(x))\n",
    "seattle_data['weekly_price'] = seattle_data['weekly_price'].map(lambda x: correction(x))\n",
    "seattle_data['monthly_price'] = seattle_data['monthly_price'].map(lambda x: correction(x))\n",
    "seattle_data['security_deposit'] = seattle_data['security_deposit'].map(lambda x: correction(x))\n",
    "seattle_data['extra_people'] = seattle_data['extra_people'].map(lambda x: correction(x))\n",
    "seattle_data['cleaning_fee'] = seattle_data['cleaning_fee'].map(lambda x: correction(x))\n",
    "\n",
    "# Convert string to number: host_response_time, cancellation_policy\n",
    "seattle_data['host_response_time'] = seattle_data['host_response_time'].apply(changeTime).astype(int)\n",
    "seattle_data['cancellation_policy'] = seattle_data['cancellation_policy'].map(lambda x: convertPolicy(x))\n",
    "\n",
    "# Convert boolean t/f to int 1/0: host_is_superhost, host_identity_verified, instant_bookable\n",
    "for i in seattle_data.columns:\n",
    "    \n",
    "    if set(seattle_data[i])=={'t','f'}:\n",
    "        seattle_data[i]=seattle_data[i].apply(to_int)\n",
    "        \n",
    "    elif set(seattle_data[i]) == {'t','f',np.nan}:\n",
    "        seattle_data[i]=seattle_data[i].apply(to_int)\n",
    "\n",
    "# Fill missing value with reasonable values like 0 or 1.\n",
    "seattle_data['new_score_reviews'].fillna(0, inplace = True)\n",
    "seattle_data['accommodates'].fillna(0, inplace = True)\n",
    "seattle_data['bathrooms'].fillna(0, inplace = True)\n",
    "seattle_data['beds'].fillna(0, inplace = True)\n",
    "seattle_data['price'].fillna(0, inplace = True)\n",
    "seattle_data['weekly_price'].fillna(0, inplace = True)\n",
    "seattle_data['monthly_price'].fillna(0, inplace = True)\n",
    "seattle_data['security_deposit'].fillna(0, inplace = True)\n",
    "seattle_data['cleaning_fee'].fillna(0, inplace = True)\n",
    "seattle_data['extra_people'].fillna(0, inplace = True)\n",
    "seattle_data['minimum_nights'].fillna(1, inplace = True)\n",
    "\n",
    "# Relevant Features\n",
    "seattle_features = ['zipcode', 'accommodates', 'bathrooms', 'bedrooms', 'beds', 'price', 'weekly_price', \n",
    "                    'monthly_price', 'security_deposit', 'cleaning_fee', 'extra_people', 'minimum_nights', \n",
    "                    'host_response_time', 'host_is_superhost', 'host_identity_verified', 'instant_bookable', \n",
    "                    'cancellation_policy', 'new_score_reviews' \n",
    "                    ]\n",
    "\n",
    "# Drop rows if any feature still has missing value\n",
    "seattle_data = seattle_data[seattle_features].dropna()\n",
    "\n",
    "# print(seattle_data[seattle_features])"
   ]
  },
  {
   "cell_type": "code",
   "execution_count": 1262,
   "metadata": {},
   "outputs": [
    {
     "data": {
      "text/html": [
       "<div>\n",
       "<style scoped>\n",
       "    .dataframe tbody tr th:only-of-type {\n",
       "        vertical-align: middle;\n",
       "    }\n",
       "\n",
       "    .dataframe tbody tr th {\n",
       "        vertical-align: top;\n",
       "    }\n",
       "\n",
       "    .dataframe thead th {\n",
       "        text-align: right;\n",
       "    }\n",
       "</style>\n",
       "<table border=\"1\" class=\"dataframe\">\n",
       "  <thead>\n",
       "    <tr style=\"text-align: right;\">\n",
       "      <th></th>\n",
       "      <th>zipcode</th>\n",
       "      <th>accommodates</th>\n",
       "      <th>bathrooms</th>\n",
       "      <th>bedrooms</th>\n",
       "      <th>beds</th>\n",
       "      <th>price</th>\n",
       "      <th>weekly_price</th>\n",
       "      <th>monthly_price</th>\n",
       "      <th>security_deposit</th>\n",
       "      <th>cleaning_fee</th>\n",
       "      <th>extra_people</th>\n",
       "      <th>minimum_nights</th>\n",
       "      <th>host_response_time</th>\n",
       "      <th>host_is_superhost</th>\n",
       "      <th>host_identity_verified</th>\n",
       "      <th>instant_bookable</th>\n",
       "      <th>cancellation_policy</th>\n",
       "    </tr>\n",
       "  </thead>\n",
       "  <tbody>\n",
       "    <tr>\n",
       "      <th>count</th>\n",
       "      <td>3805.000000</td>\n",
       "      <td>3805.000000</td>\n",
       "      <td>3805.000000</td>\n",
       "      <td>3805.000000</td>\n",
       "      <td>3805.000000</td>\n",
       "      <td>3805.000000</td>\n",
       "      <td>3805.000000</td>\n",
       "      <td>3805.000000</td>\n",
       "      <td>3805.000000</td>\n",
       "      <td>3805.000000</td>\n",
       "      <td>3805.000000</td>\n",
       "      <td>3805.000000</td>\n",
       "      <td>3805.000000</td>\n",
       "      <td>3805.000000</td>\n",
       "      <td>3805.000000</td>\n",
       "      <td>3805.000000</td>\n",
       "      <td>3805.000000</td>\n",
       "    </tr>\n",
       "    <tr>\n",
       "      <th>mean</th>\n",
       "      <td>98115.701971</td>\n",
       "      <td>3.348226</td>\n",
       "      <td>1.254008</td>\n",
       "      <td>1.307490</td>\n",
       "      <td>1.735874</td>\n",
       "      <td>127.937714</td>\n",
       "      <td>414.700394</td>\n",
       "      <td>1039.261761</td>\n",
       "      <td>140.737451</td>\n",
       "      <td>45.100131</td>\n",
       "      <td>10.671222</td>\n",
       "      <td>2.372668</td>\n",
       "      <td>18.822339</td>\n",
       "      <td>0.204205</td>\n",
       "      <td>0.785020</td>\n",
       "      <td>0.154271</td>\n",
       "      <td>2.862286</td>\n",
       "    </tr>\n",
       "    <tr>\n",
       "      <th>std</th>\n",
       "      <td>16.492646</td>\n",
       "      <td>1.973377</td>\n",
       "      <td>0.594677</td>\n",
       "      <td>0.882151</td>\n",
       "      <td>1.140216</td>\n",
       "      <td>90.254370</td>\n",
       "      <td>551.699388</td>\n",
       "      <td>1678.752671</td>\n",
       "      <td>237.617382</td>\n",
       "      <td>49.953030</td>\n",
       "      <td>17.598870</td>\n",
       "      <td>16.333614</td>\n",
       "      <td>32.013543</td>\n",
       "      <td>0.403172</td>\n",
       "      <td>0.410863</td>\n",
       "      <td>0.361256</td>\n",
       "      <td>1.633624</td>\n",
       "    </tr>\n",
       "    <tr>\n",
       "      <th>min</th>\n",
       "      <td>98101.000000</td>\n",
       "      <td>1.000000</td>\n",
       "      <td>0.000000</td>\n",
       "      <td>0.000000</td>\n",
       "      <td>0.000000</td>\n",
       "      <td>20.000000</td>\n",
       "      <td>0.000000</td>\n",
       "      <td>0.000000</td>\n",
       "      <td>0.000000</td>\n",
       "      <td>0.000000</td>\n",
       "      <td>0.000000</td>\n",
       "      <td>1.000000</td>\n",
       "      <td>1.000000</td>\n",
       "      <td>0.000000</td>\n",
       "      <td>0.000000</td>\n",
       "      <td>0.000000</td>\n",
       "      <td>1.000000</td>\n",
       "    </tr>\n",
       "    <tr>\n",
       "      <th>25%</th>\n",
       "      <td>98104.000000</td>\n",
       "      <td>2.000000</td>\n",
       "      <td>1.000000</td>\n",
       "      <td>1.000000</td>\n",
       "      <td>1.000000</td>\n",
       "      <td>75.000000</td>\n",
       "      <td>0.000000</td>\n",
       "      <td>0.000000</td>\n",
       "      <td>0.000000</td>\n",
       "      <td>0.000000</td>\n",
       "      <td>0.000000</td>\n",
       "      <td>1.000000</td>\n",
       "      <td>1.000000</td>\n",
       "      <td>0.000000</td>\n",
       "      <td>1.000000</td>\n",
       "      <td>0.000000</td>\n",
       "      <td>1.000000</td>\n",
       "    </tr>\n",
       "    <tr>\n",
       "      <th>50%</th>\n",
       "      <td>98112.000000</td>\n",
       "      <td>3.000000</td>\n",
       "      <td>1.000000</td>\n",
       "      <td>1.000000</td>\n",
       "      <td>1.000000</td>\n",
       "      <td>100.000000</td>\n",
       "      <td>262.000000</td>\n",
       "      <td>0.000000</td>\n",
       "      <td>0.000000</td>\n",
       "      <td>30.000000</td>\n",
       "      <td>0.000000</td>\n",
       "      <td>2.000000</td>\n",
       "      <td>4.000000</td>\n",
       "      <td>0.000000</td>\n",
       "      <td>1.000000</td>\n",
       "      <td>0.000000</td>\n",
       "      <td>3.000000</td>\n",
       "    </tr>\n",
       "    <tr>\n",
       "      <th>75%</th>\n",
       "      <td>98121.000000</td>\n",
       "      <td>4.000000</td>\n",
       "      <td>1.000000</td>\n",
       "      <td>2.000000</td>\n",
       "      <td>2.000000</td>\n",
       "      <td>150.000000</td>\n",
       "      <td>670.000000</td>\n",
       "      <td>1890.000000</td>\n",
       "      <td>200.000000</td>\n",
       "      <td>65.000000</td>\n",
       "      <td>20.000000</td>\n",
       "      <td>2.000000</td>\n",
       "      <td>24.000000</td>\n",
       "      <td>0.000000</td>\n",
       "      <td>1.000000</td>\n",
       "      <td>0.000000</td>\n",
       "      <td>5.000000</td>\n",
       "    </tr>\n",
       "    <tr>\n",
       "      <th>max</th>\n",
       "      <td>98199.000000</td>\n",
       "      <td>16.000000</td>\n",
       "      <td>8.000000</td>\n",
       "      <td>7.000000</td>\n",
       "      <td>15.000000</td>\n",
       "      <td>1000.000000</td>\n",
       "      <td>6300.000000</td>\n",
       "      <td>19500.000000</td>\n",
       "      <td>5000.000000</td>\n",
       "      <td>300.000000</td>\n",
       "      <td>300.000000</td>\n",
       "      <td>1000.000000</td>\n",
       "      <td>96.000000</td>\n",
       "      <td>1.000000</td>\n",
       "      <td>1.000000</td>\n",
       "      <td>1.000000</td>\n",
       "      <td>5.000000</td>\n",
       "    </tr>\n",
       "  </tbody>\n",
       "</table>\n",
       "</div>"
      ],
      "text/plain": [
       "            zipcode  accommodates    bathrooms     bedrooms         beds  \\\n",
       "count   3805.000000   3805.000000  3805.000000  3805.000000  3805.000000   \n",
       "mean   98115.701971      3.348226     1.254008     1.307490     1.735874   \n",
       "std       16.492646      1.973377     0.594677     0.882151     1.140216   \n",
       "min    98101.000000      1.000000     0.000000     0.000000     0.000000   \n",
       "25%    98104.000000      2.000000     1.000000     1.000000     1.000000   \n",
       "50%    98112.000000      3.000000     1.000000     1.000000     1.000000   \n",
       "75%    98121.000000      4.000000     1.000000     2.000000     2.000000   \n",
       "max    98199.000000     16.000000     8.000000     7.000000    15.000000   \n",
       "\n",
       "             price  weekly_price  monthly_price  security_deposit  \\\n",
       "count  3805.000000   3805.000000    3805.000000       3805.000000   \n",
       "mean    127.937714    414.700394    1039.261761        140.737451   \n",
       "std      90.254370    551.699388    1678.752671        237.617382   \n",
       "min      20.000000      0.000000       0.000000          0.000000   \n",
       "25%      75.000000      0.000000       0.000000          0.000000   \n",
       "50%     100.000000    262.000000       0.000000          0.000000   \n",
       "75%     150.000000    670.000000    1890.000000        200.000000   \n",
       "max    1000.000000   6300.000000   19500.000000       5000.000000   \n",
       "\n",
       "       cleaning_fee  extra_people  minimum_nights  host_response_time  \\\n",
       "count   3805.000000   3805.000000     3805.000000         3805.000000   \n",
       "mean      45.100131     10.671222        2.372668           18.822339   \n",
       "std       49.953030     17.598870       16.333614           32.013543   \n",
       "min        0.000000      0.000000        1.000000            1.000000   \n",
       "25%        0.000000      0.000000        1.000000            1.000000   \n",
       "50%       30.000000      0.000000        2.000000            4.000000   \n",
       "75%       65.000000     20.000000        2.000000           24.000000   \n",
       "max      300.000000    300.000000     1000.000000           96.000000   \n",
       "\n",
       "       host_is_superhost  host_identity_verified  instant_bookable  \\\n",
       "count        3805.000000             3805.000000       3805.000000   \n",
       "mean            0.204205                0.785020          0.154271   \n",
       "std             0.403172                0.410863          0.361256   \n",
       "min             0.000000                0.000000          0.000000   \n",
       "25%             0.000000                1.000000          0.000000   \n",
       "50%             0.000000                1.000000          0.000000   \n",
       "75%             0.000000                1.000000          0.000000   \n",
       "max             1.000000                1.000000          1.000000   \n",
       "\n",
       "       cancellation_policy  \n",
       "count          3805.000000  \n",
       "mean              2.862286  \n",
       "std               1.633624  \n",
       "min               1.000000  \n",
       "25%               1.000000  \n",
       "50%               3.000000  \n",
       "75%               5.000000  \n",
       "max               5.000000  "
      ]
     },
     "execution_count": 1262,
     "metadata": {},
     "output_type": "execute_result"
    }
   ],
   "source": [
    "# Needed features:\n",
    "# X is the independent variable\n",
    "features = ['zipcode', 'accommodates', 'bathrooms', 'bedrooms', 'beds', 'price', 'weekly_price', \n",
    "                    'monthly_price', 'security_deposit', 'cleaning_fee', 'extra_people', 'minimum_nights', \n",
    "                    'host_response_time', 'host_is_superhost', 'host_identity_verified', 'instant_bookable', \n",
    "                    'cancellation_policy'\n",
    "                    ]\n",
    "\n",
    "X = seattle_data[features]\n",
    "\n",
    "# Statistic of seattle features\n",
    "# X\n",
    "X.describe()"
   ]
  },
  {
   "cell_type": "code",
   "execution_count": 1263,
   "metadata": {
    "scrolled": true
   },
   "outputs": [],
   "source": [
    "# Prediction target, dependent variable\n",
    "y = seattle_data.new_score_reviews\n",
    "# y\n",
    "# y.describe()"
   ]
  },
  {
   "cell_type": "code",
   "execution_count": 1264,
   "metadata": {},
   "outputs": [
    {
     "data": {
      "text/plain": [
       "'\\nThe pairs plot builds on two basic figures, the histogram and the scatter plot. \\nThe histogram on the diagonal allows us to see the distribution of a single variable \\nwhile the scatter plots on the upper and lower triangles show the relationship (or lack thereof) \\nbetween two variables.\\n'"
      ]
     },
     "execution_count": 1264,
     "metadata": {},
     "output_type": "execute_result"
    }
   ],
   "source": [
    "'''\n",
    "The pairs plot builds on two basic figures, the histogram and the scatter plot. \n",
    "The histogram on the diagonal allows us to see the distribution of a single variable \n",
    "while the scatter plots on the upper and lower triangles show the relationship (or lack thereof) \n",
    "between two variables.\n",
    "'''\n",
    "# sns.pairplot(seattle_data)"
   ]
  },
  {
   "cell_type": "code",
   "execution_count": 1265,
   "metadata": {},
   "outputs": [
    {
     "data": {
      "text/plain": [
       "'\\nA histogram divides the variable into bins, counts the data points in each bin, \\nand shows the bins on the x-axis and the counts on the y-axis.\\n'"
      ]
     },
     "execution_count": 1265,
     "metadata": {},
     "output_type": "execute_result"
    }
   ],
   "source": [
    "'''\n",
    "A histogram divides the variable into bins, counts the data points in each bin, \n",
    "and shows the bins on the x-axis and the counts on the y-axis.\n",
    "'''\n",
    "# sns.distplot(y)"
   ]
  },
  {
   "cell_type": "code",
   "execution_count": 1266,
   "metadata": {
    "scrolled": false
   },
   "outputs": [
    {
     "data": {
      "text/plain": [
       "'\\nThe correlation coefficient, or simply the correlation, is an index that ranges from -1 to 1. \\nWhen the value is near zero, there is no linear relationship. \\nAs the correlation gets closer to plus or minus one, the relationship is stronger. \\nA value of one (or negative one) indicates a perfect linear relationship between two variables.\\n'"
      ]
     },
     "execution_count": 1266,
     "metadata": {},
     "output_type": "execute_result"
    }
   ],
   "source": [
    "# Correlation\n",
    "'''\n",
    "The correlation coefficient, or simply the correlation, is an index that ranges from -1 to 1. \n",
    "When the value is near zero, there is no linear relationship. \n",
    "As the correlation gets closer to plus or minus one, the relationship is stronger. \n",
    "A value of one (or negative one) indicates a perfect linear relationship between two variables.\n",
    "'''\n",
    "# result: \n",
    "# stronger correlation: host_is_superhost, instant_bookable, host_response_time, bedrooms, price, cleaning fee\n",
    "# weaker corr: accommodates, beds, bathrooms, host_identity_verified\n",
    "# almost no corr: zipcode, weekly_price, monthly_price, security_deposit, extra_people\n",
    "\n",
    "# seattle_data.corr()"
   ]
  },
  {
   "cell_type": "code",
   "execution_count": 1267,
   "metadata": {
    "scrolled": true
   },
   "outputs": [
    {
     "name": "stdout",
     "output_type": "stream",
     "text": [
      "(3044, 17) (3044,)\n",
      "(761, 17) (761,)\n"
     ]
    }
   ],
   "source": [
    "# Split training and testing set. Training = 80%. Testing = 20%\n",
    "X_train, X_test, y_train, y_test = train_test_split(X, y, test_size=0.2, random_state=0)\n",
    "print(X_train.shape, y_train.shape)\n",
    "print(X_test.shape, y_test.shape)"
   ]
  },
  {
   "cell_type": "code",
   "execution_count": 1268,
   "metadata": {
    "scrolled": false
   },
   "outputs": [
    {
     "name": "stdout",
     "output_type": "stream",
     "text": [
      "The score is:\n",
      "-3.2520698378668556e-06\n"
     ]
    }
   ],
   "source": [
    "# Baseline model\n",
    "# Make prediction by mean or median\n",
    "# Best possible score is 1.0 and it can be negative (because the model can be arbitrarily worse).\n",
    "\n",
    "from sklearn.dummy import DummyRegressor\n",
    "# from sklearn.metrics import r2_score\n",
    "\n",
    "# Create a dummy regressor\n",
    "baseline_model = DummyRegressor(strategy='mean')\n",
    "\n",
    "# \"Train\" dummy regressor\n",
    "baseline_model.fit(X_train, y_train)\n",
    "# print(dummy_mean)\n",
    "\n",
    "# Predict\n",
    "# print(\"Baseline model predicitions using testing set \")\n",
    "# print(X2.head())\n",
    "# print(\"The predictions are:\")\n",
    "# print(baseline_model.predict(X_test))\n",
    "print(\"The score is:\")\n",
    "print(baseline_model.score(X_test, y_test))\n",
    "# r2_score(y_test, y_pred_bm)"
   ]
  },
  {
   "cell_type": "code",
   "execution_count": 1269,
   "metadata": {},
   "outputs": [
    {
     "name": "stdout",
     "output_type": "stream",
     "text": [
      "[ 5.68293833 17.99799688 16.1062956  13.9314133  15.79165799 15.40204529\n",
      "  4.99484888 26.89794495 14.67731319 25.56175191 27.77008597 18.78920016\n",
      " 15.28502376 17.85187188 17.72174773 13.36997763 16.97748097  8.91998248\n",
      " 10.31209256 12.98933631  8.29311388 17.09537373  6.12892963 14.36416321\n",
      " 16.03889474 16.1728633   6.7613716  18.08158    12.66840117 24.32827571\n",
      " 26.46180509 15.59529843 14.99237458 22.15013046 15.35680185  3.87809517\n",
      " 23.68259926 25.56497674 27.69610299 16.19182934 14.48605495 24.1753683\n",
      " 16.81948872 17.54630974  2.26801685 17.90080447 15.67999275 31.67860568\n",
      " 12.31280229 25.35149332  6.65610975 28.69139962 17.50982624 27.57575523\n",
      " 14.52080464 20.33900902 -1.92073969 12.66305651 34.20177277 12.83877787\n",
      " 16.21527938 25.86128208 14.30378171 21.49452484 39.31592406 23.74887631\n",
      " 35.15514458 10.94698129 16.80067666  3.77220898 36.19923845 15.47811879\n",
      " 30.95252069 19.69745802 28.76056128 24.69309648  8.93709418 12.68023791\n",
      " 23.35608664 17.23523198 12.44012619 19.43336566 15.67621466 18.27145515\n",
      " 18.44129675 16.46892763 -4.15056076 16.38695552 13.19309798  0.95211151\n",
      " 25.21041629 27.10865651 22.23977622 12.37519366 15.66061584  7.50843177\n",
      " 12.53502175 28.57194363 17.87205088 13.36433886 15.86957478 17.98010914\n",
      " 13.01299606 12.32134439 29.00445533 12.62265759 15.23761986 16.64088464\n",
      " 22.90670867 15.60402784  9.87793708  8.15786387 26.84444559 28.42553406\n",
      " 10.79442649 17.17015238  0.67156446 24.68355562 18.77927088 30.61208679\n",
      " 28.97897542 14.25048055 14.70552103 11.01939309 25.38051033 16.44959788\n",
      " 21.93894163 25.47613963 17.69623246 27.49673768 14.86719337 13.26548242\n",
      " 28.96449928 36.81770896 27.16675974 15.70813532 13.83116552 28.32196341\n",
      " 24.73950995 16.90905757 13.08166533 12.67450586 16.59255502  1.50496912\n",
      " 23.1778977  26.21835207 15.68944844 27.30773959  4.33332652 -0.19715936\n",
      "  4.56573682 19.73647186 16.91311631 14.70795451  3.80685279 16.88938459\n",
      " 20.6472604  16.1435021  22.33403489 17.10883701 11.92477586 12.66629794\n",
      " 18.97975605  3.54122636 26.5439735  17.93455904  4.29851217 -1.43641545\n",
      " 16.40105971 35.02248415 16.77686408 41.85410296 18.43167158  3.84041295\n",
      "  5.34329911 15.77281231 12.87443937 12.92564743  7.17471888  3.43388781\n",
      " 29.07151404  9.76589856  7.19323867 16.84878866 16.92810477  8.87528693\n",
      " -7.11961233 16.03889474 30.9631862  10.50191956 27.5894902  13.50000423\n",
      "  6.02417624 21.28566773 26.60110176  7.04241258 28.51498709 26.56984161\n",
      " 28.31047944 14.7154275  17.71503885 16.60152232 26.3388777  12.3155485\n",
      " 16.60103886 12.78980124 27.15910456 36.47320981 27.53626058 27.30841546\n",
      " 13.88868228  7.95697555 17.39047974 11.03126956  2.86475265 14.40180978\n",
      " 27.18100696 -3.69132746  2.03732301 28.28643889 11.90635491 29.19103302\n",
      "  5.65774043 11.27697246 12.31360514  9.73204763 18.33931847 23.95056086\n",
      " 15.20156796 31.02672401 15.77306369  6.3001941   7.37839959 17.14241691\n",
      " 14.05440634 -3.44216365 13.47485681  8.31876098 15.0958289  15.99888552\n",
      "  7.26985387  9.57699878 14.32256521 20.22317126 15.95164964 15.20373052\n",
      " 26.2098101  12.4443611  13.22508417 12.42735322 26.28821725 26.51692738\n",
      " 17.89340293 15.85371787 12.98606705 12.07543502 12.98820917 13.99634541\n",
      " 19.48246915 10.49267177  5.62242042 12.22933345 17.36880258 16.03947636\n",
      " 17.35086876 26.05071911 27.01474759 17.95149348 15.50703956 13.78411211\n",
      " 24.78482242 27.89885296 27.78288994 11.84037763 28.90970505 17.09079027\n",
      " 10.84709258  7.60863993 23.81273857 13.37444065 29.17875724 20.25014199\n",
      " -7.30713514 -4.04021553 24.67127541 24.68004936  6.80180162 24.49455587\n",
      " 16.68222266  1.98687615 24.33413409 33.34133599 17.81333535 29.00360627\n",
      " 18.83135361  5.39158271 21.11031334  8.41190753 16.87413189 26.02793839\n",
      " 11.5106812  27.55221249  3.6693233  13.204274   20.43843378 17.09086523\n",
      " 11.06288659 16.7079167  19.19264937  9.27258268 25.15584798 -5.18085633\n",
      " 14.60852534 27.47473387 16.60585992  8.65027917  8.68278941 16.6214295\n",
      " 14.32990723 -6.38255462 25.29371996  7.13504856 13.95916307 17.26539514\n",
      " 19.92165807 26.20121082 12.12615853 18.52200484 -6.16196329 14.66943618\n",
      " 16.0615757  15.03168592 27.08441604 22.94525123 13.99864988 11.62984845\n",
      " 27.16726937 10.2482628  17.09059515 33.33570702 17.01435424 25.03375528\n",
      " 10.10707922 16.70010162 26.52512257 29.45973418  8.42861426 11.429155\n",
      " 19.71221115 16.07476992 15.65302294 18.32937771 24.21043094 13.77430009\n",
      "  8.1188696  13.7777383   4.73646721 15.41434921 25.58120783 20.5582683\n",
      " 16.69868677 25.23874232 15.98977682 27.04297898 15.20273243  1.27430911\n",
      " 17.25972831 25.1868723  15.43598256 32.53069805 15.89964401 28.41798431\n",
      " 12.64971389 16.38859193 22.20514371 13.67460189 16.09525283 45.06977465\n",
      " 13.8807501  25.1181016  16.5946128  17.02363761 25.7119637   1.3344057\n",
      " 27.15533235 16.8136823  11.1122541  13.96415618 29.79588973 18.23900873\n",
      " 11.30581169 22.370935   11.59769763 14.13772399  6.59535925 29.26926163\n",
      "  3.20102047 11.89066052 27.27368101 17.97666546 12.75535305 26.27882568\n",
      " 16.40980617 17.02688931 16.69467778 15.51926078 10.91715703 18.00202943\n",
      " 20.68758642 13.9481219  29.05142658  1.35676748  9.05602922 27.7506336\n",
      " 14.12754178 11.21987158  4.7732656  25.0530186  12.58509335 19.26870065\n",
      " 15.26936226  6.46975204  7.11650999 17.0567071  13.53976907 29.02359628\n",
      " 15.74350762 31.51023612 15.11927942 15.28250208 16.76777825 17.07421179\n",
      "  9.05470956 13.59056998  7.63486348 34.70557235 13.41817537 36.69312964\n",
      " 27.20076517 19.14901239 26.80804593  9.50650076 32.16381317 25.69939038\n",
      " 15.79418588 26.71983102  9.786443   25.15248611  9.18587157  4.75013272\n",
      " 40.00508266 16.93852458 13.71579641 14.24621154 12.26358379  5.74088533\n",
      " 19.2017653  17.44551748 17.78154286  3.86409107 17.19477525  6.09114106\n",
      " 31.33413773 25.78062215 13.79207735 21.16517895 14.58951692 36.47655824\n",
      " -0.12584775  7.20156127 27.37188445 25.1021056  25.10153724  8.48939927\n",
      " 18.55661882 16.1519951   4.78147108 16.20898219  2.17770211 21.46721546\n",
      " 16.08146297 37.58781828 18.03286413 20.40022634 16.5043911  26.01938522\n",
      "  9.63428242  4.32385922 28.23508852 16.39658531 24.80378309 15.86126566\n",
      " 11.81071356 14.60660924 25.32029771 -1.77522487 -1.26716346 24.82860039\n",
      " 11.85672732 37.36653047 -2.52782765 17.43633342 18.03628591  4.00646665\n",
      " 28.09132487 24.55048016 13.24135427 14.17973803 27.73973145  4.32258499\n",
      " -2.86341991 29.83337846 28.38461973  4.94029181 15.43925857 17.98637432\n",
      " 14.37416684  4.13059387 17.72954964 25.3285665  30.06267554 24.68188645\n",
      " 15.41868417 21.24592548 -1.1197559  28.58745144 -1.24134618 17.1388046\n",
      " 17.65194913 26.56019216 19.53128404 25.43715982 18.4569836  12.68020244\n",
      " 19.98675186  5.24308553  9.73555343 13.94299018 -5.71233841 16.21380916\n",
      " 26.61315213  2.32861023 25.21166556 17.01861671 10.73206368 24.11017456\n",
      " 23.65185333 15.06953163 28.53311297 18.14413079  6.48917338 24.6801007\n",
      " 16.38907497 10.69553947 10.18842874 36.22262375 27.21781186  7.17655738\n",
      " 19.83853056 30.24968924 11.31812165 15.87842403 27.14336468 11.59474271\n",
      "  5.34692952 16.93579066  1.80246167  1.10944473  4.92721367 24.12139228\n",
      "  8.91758438 27.27565767 15.71951294 18.25804675  5.72437554 15.18845153\n",
      " 29.93648356 11.35509562 10.40487538  4.0648291   4.64881547 15.33038473\n",
      "  7.12104477  3.36903499 15.37890468 11.92793701 13.3546584  19.69493789\n",
      " 13.40886101 17.06646553 28.99326901 35.5203915  18.11570979  4.9628758\n",
      " 17.8042929  26.12431551 23.14743874 17.84758066 -2.59762312 36.09251882\n",
      " 13.62426842 16.03393343 11.22114011 21.39202328  4.7278622  15.36043876\n",
      "  3.08206924  6.09901114  4.56630389 26.18300383  9.3372102  19.11669635\n",
      " 16.86206782 28.32196341 33.06984174 13.2148626  11.49085193 14.00133091\n",
      " 35.00404937 12.41443954 15.77783962  6.40290378  0.53432514 14.12377591\n",
      " 12.74777711 16.47998295  2.69635647 17.7112571   4.83412996 15.37091354\n",
      " 24.67173942 -2.56831925 -4.23779297 26.85231059 15.61851578 25.9680867\n",
      "  0.90971694  7.6234482  17.38977053 16.94161095  2.51066811 14.20266994\n",
      " 17.10547064 22.20667446 12.53956387  4.57840217 19.1829773  11.52166671\n",
      " 24.63237647  4.34075697 30.0894509  15.11684829  3.04034803 15.92092379\n",
      " 26.61378202 23.46237263 22.16762006 24.87131489  6.85278305 -3.1709584\n",
      " 25.86430614  4.5694093  14.11595431  8.37393954 40.98018334 11.55227103\n",
      " 14.89581601 26.04316389 25.28907636 33.0832251  15.62890371  6.43509428\n",
      " 19.06319599 12.10537836 15.95988396 22.50579813 37.12071533 10.4127766\n",
      " 15.34798085 23.69452178 19.99655984 25.24309611  4.18346029 16.23615305\n",
      " 26.71492513  2.68867699 14.62442062 26.41185603 12.95557498  4.32196444\n",
      " 23.02530799 20.18275746 16.05168356  4.55359004 24.67131394 12.18512866\n",
      " -0.80026137 23.12122071 11.48973628 -3.37014621 28.69482627  2.56677445\n",
      " 17.0477672  34.92714806 17.27705506 29.02021196 16.12246581 -7.42694511\n",
      "  7.01013594  9.88730329 18.90489029 15.48780314 18.69838797  4.94506716\n",
      " 15.72564801 16.68977333  9.74150334 18.46871888 25.07591971 16.65493316\n",
      " 28.59734965 12.78974388 -2.4108312  17.93113273 19.55967398 25.41460977\n",
      " 16.88619596 10.11362041 12.3901668  15.00584909 13.36482763 13.52355541\n",
      " 26.34442852 25.94310704 11.89019143 13.68686881 15.44807075 13.26943834\n",
      " 26.31973615 16.1435021  15.55804224 28.64427259 25.83226888 16.74414807\n",
      "  4.394329   17.82982125 18.37927889 13.30178712 16.39518107 13.50060808\n",
      " 33.6139777  22.06393861 15.71671916 36.25892947 16.86179998  3.31498501\n",
      " 16.70763123 11.24399972 15.53421403 39.7369848  18.1767682 ]\n"
     ]
    },
    {
     "data": {
      "text/plain": [
       "Text(0, 0.5, 'Predictions (y_pred_lm)')"
      ]
     },
     "execution_count": 1269,
     "metadata": {},
     "output_type": "execute_result"
    },
    {
     "data": {
      "image/png": "[encoded data removed]",
      "text/plain": [
       "<Figure size 432x288 with 1 Axes>"
      ]
     },
     "metadata": {
      "needs_background": "light"
     },
     "output_type": "display_data"
    }
   ],
   "source": [
    "# Linear Regression\n",
    "lin_model = linear_model.LinearRegression()\n",
    "lin_model = lin_model.fit(X_train, y_train)\n",
    "y_pred_lm = lin_model.predict(X_test)\n",
    "print(y_pred_lm)\n",
    "\n",
    "plt.scatter(y_test, y_pred_lm)\n",
    "plt.xlabel(\"True Values (y_test)\")\n",
    "plt.ylabel(\"Predictions (y_pred_lm)\")"
   ]
  },
  {
   "cell_type": "code",
   "execution_count": 1270,
   "metadata": {},
   "outputs": [
    {
     "name": "stdout",
     "output_type": "stream",
     "text": [
      "lin_model score: 0.3223501586770844\n",
      "lin_model mae: 10.661385130886293\n"
     ]
    }
   ],
   "source": [
    "print(\"lin_model score:\", lin_model.score(X_test, y_test))\n",
    "# The mean absolute error (mae)\n",
    "print(\"lin_model mae:\", mean_absolute_error(y_pred_lm, y_test))"
   ]
  },
  {
   "cell_type": "code",
   "execution_count": 1271,
   "metadata": {
    "scrolled": true
   },
   "outputs": [
    {
     "name": "stdout",
     "output_type": "stream",
     "text": [
      "Coefficients: \n",
      " [-1.60501238e-02  9.59663259e-01  7.59530190e-02 -1.99980604e+00\n",
      " -1.03277111e-01 -1.20640722e-02  6.09900969e-04  2.14805937e-04\n",
      " -2.10722857e-03 -7.07223764e-02  4.66326070e-02 -1.61309119e-02\n",
      " -1.16148260e-01  1.04866759e+01  2.36693767e+00  9.50549861e+00\n",
      " -7.49124008e-01]\n",
      "Mean squared error: 213.63\n",
      "Variance score (same as score): 0.322\n"
     ]
    }
   ],
   "source": [
    "# The coefficients\n",
    "print('Coefficients: \\n', lin_model.coef_)\n",
    "# The mean squared error (mse)\n",
    "print(\"Mean squared error: %.2f\"\n",
    "      % mean_squared_error(y_test, y_pred))\n",
    "# Explained variance score: 1 is perfect prediction, same as score\n",
    "print('Variance score (same as score): %.3f' % r2_score(y_test, y_pred))"
   ]
  },
  {
   "cell_type": "code",
   "execution_count": 1272,
   "metadata": {},
   "outputs": [
    {
     "name": "stdout",
     "output_type": "stream",
     "text": [
      "ridgecv_model score: 0.322341781688378\n",
      "ridgecv_model mae: 10.661456777610573\n"
     ]
    },
    {
     "data": {
      "image/png": "[encoded data removed]",
      "text/plain": [
       "<Figure size 432x288 with 1 Axes>"
      ]
     },
     "metadata": {
      "needs_background": "light"
     },
     "output_type": "display_data"
    }
   ],
   "source": [
    "# Ridge Regression with built-in cross-validation of the alpha parameter.\n",
    "ridgecv_model = linear_model.RidgeCV(alphas=[0.1, 1.0, 10.0], cv=6, fit_intercept=True, scoring=None,\n",
    "    normalize=False)\n",
    "ridgecv_model.fit(X_train, y_train)\n",
    "# ridgecv_model.alpha_\n",
    "y_pred_rcv = ridgecv_model.predict(X_test)\n",
    "# print(y_pred_rcv)\n",
    "\n",
    "plt.scatter(y_test, y_pred_rcv)\n",
    "plt.xlabel(\"True Values (y_test)\")\n",
    "plt.ylabel(\"Predictions (y_pred_rcv)\")\n",
    "print(\"ridgecv_model score:\", ridgecv_model.score(X_test, y_test))\n",
    "print(\"ridgecv_model mae:\", mean_absolute_error(y_pred_rcv, y_test))"
   ]
  },
  {
   "cell_type": "code",
   "execution_count": 1273,
   "metadata": {},
   "outputs": [
    {
     "data": {
      "text/plain": [
       "Text(0, 0.5, 'Predictions (y_pred_ridge)')"
      ]
     },
     "execution_count": 1273,
     "metadata": {},
     "output_type": "execute_result"
    },
    {
     "data": {
      "image/png": "[encoded data removed]",
      "text/plain": [
       "<Figure size 432x288 with 1 Axes>"
      ]
     },
     "metadata": {
      "needs_background": "light"
     },
     "output_type": "display_data"
    }
   ],
   "source": [
    "# Ridge Regression\n",
    "ridge_model = linear_model.Ridge(alpha=.5, copy_X=True, fit_intercept=True, max_iter=None,\n",
    "      normalize=False, random_state=None, solver='auto', tol=0.001)\n",
    "ridge_model.fit(X_train, y_train)\n",
    "# reg.coef_\n",
    "# reg.intercept_\n",
    "y_pred_ridge = ridge_model.predict(X_test)\n",
    "# print(y_pred_ridge)\n",
    "\n",
    "plt.scatter(y_test, y_pred_ridge)\n",
    "plt.xlabel(\"True Values (y_test)\")\n",
    "plt.ylabel(\"Predictions (y_pred_ridge)\")"
   ]
  },
  {
   "cell_type": "code",
   "execution_count": 1274,
   "metadata": {},
   "outputs": [
    {
     "name": "stdout",
     "output_type": "stream",
     "text": [
      "ridge_model score: 0.32230821067246496\n",
      "ridge_model mae: 10.661743095356572\n"
     ]
    }
   ],
   "source": [
    "print(\"ridge_model score:\", ridge_model.score(X_test, y_test))\n",
    "print(\"ridge_model mae:\", mean_absolute_error(y_pred_ridge, y_test))"
   ]
  },
  {
   "cell_type": "code",
   "execution_count": 1275,
   "metadata": {},
   "outputs": [],
   "source": [
    "# Perform 9-fold cross validation (cv)\n",
    "\n",
    "scores = cross_val_score(lin_model, X, y, cv=9)\n",
    "print(\"Cross-validated scores:\", scores)                                         \n",
    "\n",
    "# As you can see, the last fold improved the score of the original model — from 0.322 to 0.392\n",
    "\n",
    "# Make cross validated predictions\n",
    "y_pred_cvp = cross_val_predict(lin_model, X_test, y_test, cv=9)\n",
    "# print(y_pred_cvp)\n",
    "plt.scatter(y_test, y_pred_cvp)\n",
    "\n",
    "# Cross-Predicted Accuracy, r2_score\n",
    "accuracy = metrics.r2_score(y_test, y_pred_cvp)\n",
    "print(\"Cross-Predicted Accuracy:\", accuracy)\n",
    "\n",
    "print(\"cross_val_predict mae:\", mean_absolute_error(y_pred_cvp, y_test))"
   ]
  },
  {
   "cell_type": "code",
   "execution_count": 1276,
   "metadata": {},
   "outputs": [
    {
     "data": {
      "text/plain": [
       "Text(0, 0.5, 'Predictions (y_pred_lasso)')"
      ]
     },
     "execution_count": 1276,
     "metadata": {},
     "output_type": "execute_result"
    },
    {
     "data": {
      "image/png": "[encoded data removed]",
      "text/plain": [
       "<Figure size 432x288 with 1 Axes>"
      ]
     },
     "metadata": {
      "needs_background": "light"
     },
     "output_type": "display_data"
    }
   ],
   "source": [
    "# Lasso Regression\n",
    "lasso_model = linear_model.Lasso(alpha=0.1, copy_X=True, fit_intercept=True, max_iter=1000,\n",
    "   normalize=False, positive=False, precompute=False, random_state=None,\n",
    "   selection='cyclic', tol=0.0001, warm_start=False)\n",
    "\n",
    "lasso_model.fit(X_train, y_train)\n",
    "y_pred_lasso = lasso_model.predict(X_test)\n",
    "\n",
    "plt.scatter(y_test, y_pred_lasso)\n",
    "plt.xlabel(\"True Values (y_test)\")\n",
    "plt.ylabel(\"Predictions (y_pred_lasso)\")"
   ]
  },
  {
   "cell_type": "code",
   "execution_count": 1277,
   "metadata": {},
   "outputs": [
    {
     "name": "stdout",
     "output_type": "stream",
     "text": [
      "lasso_model score: 0.31782773995165603\n",
      "lasso_model mae: 10.6980250128968\n"
     ]
    }
   ],
   "source": [
    "print(\"lasso_model score:\", lasso_model.score(X_test, y_test))\n",
    "print(\"lasso_model mae:\", mean_absolute_error(y_pred_lasso, y_test))"
   ]
  },
  {
   "cell_type": "code",
   "execution_count": 1278,
   "metadata": {},
   "outputs": [
    {
     "data": {
      "text/plain": [
       "Text(0, 0.5, 'Predictions (y_pred_dtr)')"
      ]
     },
     "execution_count": 1278,
     "metadata": {},
     "output_type": "execute_result"
    },
    {
     "data": {
      "image/png": "[encoded data removed]",
      "text/plain": [
       "<Figure size 432x288 with 1 Axes>"
      ]
     },
     "metadata": {
      "needs_background": "light"
     },
     "output_type": "display_data"
    }
   ],
   "source": [
    "# DecisionTreeRegressor\n",
    "from sklearn.tree import DecisionTreeRegressor\n",
    "\n",
    "dtr_model = DecisionTreeRegressor()\n",
    "dtr_model = dtr_model.fit(X_train, y_train)\n",
    "y_pred_dtr = dtr_model.predict(X_test)\n",
    "\n",
    "plt.scatter(y_test, y_pred_dtr)\n",
    "plt.xlabel(\"True Values (y_test)\")\n",
    "plt.ylabel(\"Predictions (y_pred_dtr)\")\n"
   ]
  },
  {
   "cell_type": "code",
   "execution_count": 1279,
   "metadata": {},
   "outputs": [
    {
     "name": "stdout",
     "output_type": "stream",
     "text": [
      "dtr_model score: -0.12449911646759704\n",
      "dtr_model mae: 13.091667104686815\n"
     ]
    }
   ],
   "source": [
    "print(\"dtr_model score:\", dtr_model.score(X_test, y_test))\n",
    "print(\"dtr_model mae:\", mean_absolute_error(y_pred_dtr, y_test))"
   ]
  },
  {
   "cell_type": "code",
   "execution_count": 1280,
   "metadata": {},
   "outputs": [
    {
     "name": "stdout",
     "output_type": "stream",
     "text": [
      "[1. 0. 0. 0. 0. 0. 0. 0. 0. 0. 0. 0. 0. 0. 0. 0. 0.]\n"
     ]
    },
    {
     "data": {
      "text/plain": [
       "Text(0, 0.5, 'Predictions (y_pred_rfr)')"
      ]
     },
     "execution_count": 1280,
     "metadata": {},
     "output_type": "execute_result"
    },
    {
     "data": {
      "image/png": "[encoded data removed]",
      "text/plain": [
       "<Figure size 432x288 with 1 Axes>"
      ]
     },
     "metadata": {
      "needs_background": "light"
     },
     "output_type": "display_data"
    }
   ],
   "source": [
    "# RandomForestRegressor\n",
    "from sklearn.ensemble import RandomForestRegressor\n",
    "from sklearn.datasets import make_regression\n",
    "\n",
    "X, y = make_regression(n_features=17, n_informative=2, random_state=0, shuffle=False)\n",
    "rfr_model = RandomForestRegressor(bootstrap=True, criterion='mse', max_depth=2,\n",
    "           max_features='auto', max_leaf_nodes=None,\n",
    "           min_impurity_decrease=0.0, min_impurity_split=None,\n",
    "           min_samples_leaf=1, min_samples_split=2,\n",
    "           min_weight_fraction_leaf=0.0, n_estimators=100, n_jobs=None,\n",
    "           oob_score=False, random_state=0, verbose=0, warm_start=False)\n",
    "rfr_model.fit(X, y)\n",
    "\n",
    "print(rfr_model.feature_importances_)\n",
    "y_pred_rfr = rfr_model.predict(X_test)\n",
    "# print(y_pred_rfr)\n",
    "\n",
    "plt.scatter(y_test, y_pred_rfr)\n",
    "plt.xlabel(\"True Values (y_test)\")\n",
    "plt.ylabel(\"Predictions (y_pred_rfr)\")"
   ]
  },
  {
   "cell_type": "code",
   "execution_count": 1281,
   "metadata": {},
   "outputs": [
    {
     "name": "stdout",
     "output_type": "stream",
     "text": [
      "rfr_model score: -59.538514337434734\n",
      "rfr_model mae: 137.00080027704004\n"
     ]
    }
   ],
   "source": [
    "print(\"rfr_model score:\", rfr_model.score(X_test, y_test))\n",
    "print(\"rfr_model mae:\", mean_absolute_error(y_pred_rfr, y_test))"
   ]
  },
  {
   "cell_type": "code",
   "execution_count": null,
   "metadata": {},
   "outputs": [],
   "source": []
  }
 ],
 "metadata": {
  "colab": {
   "collapsed_sections": [],
   "name": "CMPS140 Project.ipynb",
   "provenance": [],
   "version": "0.3.2"
  },
  "kernelspec": {
   "display_name": "Python 3",
   "language": "python",
   "name": "python3"
  },
  "language_info": {
   "codemirror_mode": {
    "name": "ipython",
    "version": 3
   },
   "file_extension": ".py",
   "mimetype": "text/x-python",
   "name": "python",
   "nbconvert_exporter": "python",
   "pygments_lexer": "ipython3",
   "version": "3.7.1"
  }
 },
 "nbformat": 4,
 "nbformat_minor": 1
}
