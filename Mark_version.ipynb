{
 "cells": [
  {
   "cell_type": "code",
   "execution_count": 24,
   "metadata": {},
   "outputs": [],
   "source": [
    "import pandas as pd\n",
    "from sklearn.ensemble import RandomForestRegressor\n",
    "from sklearn.metrics import mean_absolute_error\n",
    "from sklearn.model_selection import train_test_split\n",
    "from sklearn.tree import DecisionTreeRegressor\n",
    "from sklearn import linear_model\n",
    "\n",
    "Seattle_file_path = '/Users/I/Downloads/Seattle/listings.csv'\n",
    "Seattle_data = pd.read_csv(Seattle_file_path)\n",
    "Seattle_data.describe()\n",
    "Seattle_data.columns\n",
    "features = ['host_response_rate','beds','accommodates','latitude','longitude','bathrooms','bedrooms','price','host_listings_count','reviews_per_month','review_scores_rating']\n"
   ]
  },
  {
   "cell_type": "code",
   "execution_count": 25,
   "metadata": {},
   "outputs": [],
   "source": [
    "Data = Seattle_data[features]\n",
    "Droped_data = Data.dropna()"
   ]
  },
  {
   "cell_type": "code",
   "execution_count": 26,
   "metadata": {},
   "outputs": [],
   "source": [
    "y = Droped_data.review_scores_rating * Droped_data.reviews_per_month\n",
    "Selected_features = ['host_response_rate','beds','accommodates','latitude','longitude','bathrooms','bedrooms','price','host_listings_count']\n",
    "X = Droped_data[Selected_features]"
   ]
  },
  {
   "cell_type": "code",
   "execution_count": 27,
   "metadata": {},
   "outputs": [
    {
     "name": "stdout",
     "output_type": "stream",
     "text": [
      "       host_response_rate         beds  accommodates     latitude  \\\n",
      "count         2841.000000  2841.000000   2841.000000  2841.000000   \n",
      "mean             0.952432     1.748680      3.395635    47.628409   \n",
      "std              0.112542     1.158033      1.999587     0.042793   \n",
      "min              0.170000     1.000000      1.000000    47.507284   \n",
      "25%              0.990000     1.000000      2.000000    47.608419   \n",
      "50%              1.000000     1.000000      3.000000    47.623025   \n",
      "75%              1.000000     2.000000      4.000000    47.662361   \n",
      "max              1.000000    15.000000     16.000000    47.733358   \n",
      "\n",
      "         longitude    bathrooms     bedrooms        price  \\\n",
      "count  2841.000000  2841.000000  2841.000000  2841.000000   \n",
      "mean   -122.332945     1.256248     1.286519   123.710313   \n",
      "std       0.031700     0.593970     0.862108    87.202263   \n",
      "min    -122.417219     0.000000     0.000000    22.000000   \n",
      "25%    -122.353415     1.000000     1.000000    72.000000   \n",
      "50%    -122.329389     1.000000     1.000000   100.000000   \n",
      "75%    -122.310463     1.000000     2.000000   149.000000   \n",
      "max    -122.254189     8.000000     7.000000   999.000000   \n",
      "\n",
      "       host_listings_count  reviews_per_month  review_scores_rating  \n",
      "count          2841.000000        2841.000000           2841.000000  \n",
      "mean              7.471313           2.233640             94.546639  \n",
      "std              26.695426           1.848636              6.524819  \n",
      "min               1.000000           0.030000             20.000000  \n",
      "25%               1.000000           0.820000             93.000000  \n",
      "50%               1.000000           1.740000             96.000000  \n",
      "75%               3.000000           3.160000             99.000000  \n",
      "max             502.000000          12.150000            100.000000  \n"
     ]
    }
   ],
   "source": [
    "print(Droped_data.describe())"
   ]
  },
  {
   "cell_type": "code",
   "execution_count": 28,
   "metadata": {},
   "outputs": [
    {
     "data": {
      "text/plain": [
       "count    2841.000000\n",
       "mean      212.351155\n",
       "std       177.010508\n",
       "min         2.700000\n",
       "25%        77.000000\n",
       "50%       165.620000\n",
       "75%       303.030000\n",
       "max      1154.250000\n",
       "dtype: float64"
      ]
     },
     "execution_count": 28,
     "metadata": {},
     "output_type": "execute_result"
    }
   ],
   "source": [
    "y.describe()"
   ]
  },
  {
   "cell_type": "code",
   "execution_count": 45,
   "metadata": {},
   "outputs": [
    {
     "data": {
      "text/plain": [
       "Lasso(alpha=0.1, copy_X=True, fit_intercept=True, max_iter=1000,\n",
       "   normalize=False, positive=False, precompute=False, random_state=None,\n",
       "   selection='cyclic', tol=0.0001, warm_start=False)"
      ]
     },
     "execution_count": 45,
     "metadata": {},
     "output_type": "execute_result"
    }
   ],
   "source": [
    "train_X, val_X, train_y, val_y = train_test_split(X, y, random_state = 0)\n",
    "Seattle_model = linear_model.Lasso(alpha=0.1)\n",
    "# Seattle_model =  RandomForestRegressor()\n",
    "# Seattle_model = DecisionTreeRegressor()\n",
    "Seattle_model.fit(train_X, train_y)"
   ]
  },
  {
   "cell_type": "code",
   "execution_count": 46,
   "metadata": {},
   "outputs": [
    {
     "name": "stdout",
     "output_type": "stream",
     "text": [
      "128.76112008520698\n"
     ]
    }
   ],
   "source": [
    "val_predictions = Seattle_model.predict(val_X)\n",
    "print(mean_absolute_error(val_y, val_predictions))"
   ]
  },
  {
   "cell_type": "code",
   "execution_count": 47,
   "metadata": {},
   "outputs": [
    {
     "name": "stdout",
     "output_type": "stream",
     "text": [
      "[259.77850219 227.05973037 263.57941745 229.75583865 229.07744846]\n",
      "0.12970877419615356\n"
     ]
    }
   ],
   "source": [
    "print(Seattle_model.predict(val_X.head()))\n",
    "print(Seattle_model.score(val_X,val_y))"
   ]
  },
  {
   "cell_type": "code",
   "execution_count": 48,
   "metadata": {},
   "outputs": [
    {
     "data": {
      "text/plain": [
       "1411    193.50\n",
       "2665     89.00\n",
       "406     246.72\n",
       "2700    115.90\n",
       "3509    100.00\n",
       "dtype: float64"
      ]
     },
     "execution_count": 48,
     "metadata": {},
     "output_type": "execute_result"
    }
   ],
   "source": [
    "val_y.head()"
   ]
  },
  {
   "cell_type": "code",
   "execution_count": 49,
   "metadata": {},
   "outputs": [],
   "source": [
    "def get_mae(max_leaf_nodes, train_X, val_X, train_y, val_y):\n",
    "    model = RandomForestRegressor(max_leaf_nodes=max_leaf_nodes, random_state=0)\n",
    "    model.fit(train_X, train_y)\n",
    "    preds_val = model.predict(val_X)\n",
    "    mae = mean_absolute_error(val_y, preds_val)\n",
    "    return(mae)"
   ]
  },
  {
   "cell_type": "code",
   "execution_count": 50,
   "metadata": {},
   "outputs": [
    {
     "name": "stderr",
     "output_type": "stream",
     "text": [
      "/Users/I/anaconda3/lib/python3.7/site-packages/sklearn/ensemble/forest.py:246: FutureWarning: The default value of n_estimators will change from 10 in version 0.20 to 100 in 0.22.\n",
      "  \"10 in version 0.20 to 100 in 0.22.\", FutureWarning)\n",
      "/Users/I/anaconda3/lib/python3.7/site-packages/sklearn/ensemble/forest.py:246: FutureWarning: The default value of n_estimators will change from 10 in version 0.20 to 100 in 0.22.\n",
      "  \"10 in version 0.20 to 100 in 0.22.\", FutureWarning)\n",
      "/Users/I/anaconda3/lib/python3.7/site-packages/sklearn/ensemble/forest.py:246: FutureWarning: The default value of n_estimators will change from 10 in version 0.20 to 100 in 0.22.\n",
      "  \"10 in version 0.20 to 100 in 0.22.\", FutureWarning)\n",
      "/Users/I/anaconda3/lib/python3.7/site-packages/sklearn/ensemble/forest.py:246: FutureWarning: The default value of n_estimators will change from 10 in version 0.20 to 100 in 0.22.\n",
      "  \"10 in version 0.20 to 100 in 0.22.\", FutureWarning)\n"
     ]
    },
    {
     "name": "stdout",
     "output_type": "stream",
     "text": [
      "0.12970877419615356\n",
      "Max leaf nodes: 10  \t\t Mean Absolute Error:  122\n",
      "0.12970877419615356\n",
      "Max leaf nodes: 100  \t\t Mean Absolute Error:  121\n",
      "0.12970877419615356\n",
      "Max leaf nodes: 200  \t\t Mean Absolute Error:  122\n",
      "0.12970877419615356\n",
      "Max leaf nodes: 3000  \t\t Mean Absolute Error:  126\n"
     ]
    }
   ],
   "source": [
    "for max_leaf_nodes in [10, 100, 200,3000]:\n",
    "    my_mae = get_mae(max_leaf_nodes, train_X, val_X, train_y, val_y)\n",
    "    print(Seattle_model.score(val_X,val_y))\n",
    "    print(\"Max leaf nodes: %d  \\t\\t Mean Absolute Error:  %d\" %(max_leaf_nodes, my_mae))"
   ]
  },
  {
   "cell_type": "code",
   "execution_count": null,
   "metadata": {},
   "outputs": [],
   "source": []
  }
 ],
 "metadata": {
  "kernelspec": {
   "display_name": "Python 3",
   "language": "python",
   "name": "python3"
  },
  "language_info": {
   "codemirror_mode": {
    "name": "ipython",
    "version": 3
   },
   "file_extension": ".py",
   "mimetype": "text/x-python",
   "name": "python",
   "nbconvert_exporter": "python",
   "pygments_lexer": "ipython3",
   "version": "3.7.1"
  }
 },
 "nbformat": 4,
 "nbformat_minor": 2
}
